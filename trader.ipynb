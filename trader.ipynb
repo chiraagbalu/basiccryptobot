{
 "cells": [
  {
   "cell_type": "code",
   "execution_count": 36,
   "id": "c6826b88",
   "metadata": {},
   "outputs": [],
   "source": [
    "%run ./Binance_keys.ipynb\n",
    "from binance import Client\n",
    "import pandas as pd\n",
    "client = Client(api_key, secret_key)"
   ]
  },
  {
   "cell_type": "code",
   "execution_count": 35,
   "id": "68dcd5d6",
   "metadata": {},
   "outputs": [],
   "source": [
    "posframe = pd.read_csv('positioncheck')"
   ]
  },
  {
   "cell_type": "code",
   "execution_count": 37,
   "id": "9935e8e3",
   "metadata": {},
   "outputs": [],
   "source": [
    "def gethourlydata(symbol):\n",
    "    frame = pd.DataFrame(client.get_historical_klines(symbol, '1h', '60 hours ago UTC'))\n",
    "    frame = frame[[0,4]]\n",
    "    frame.columns = ['time', 'close']\n",
    "    return frame"
   ]
  },
  {
   "cell_type": "code",
   "execution_count": 38,
   "id": "9a9b3f8b",
   "metadata": {},
   "outputs": [],
   "source": [
    "ethHourly = gethourlydata('ETHUSDT')"
   ]
  },
  {
   "cell_type": "code",
   "execution_count": 39,
   "id": "08e3e014",
   "metadata": {},
   "outputs": [],
   "source": [
    "def applyFSSMA(df):\n",
    "    df['fastSMA'] = df.close.rolling(8).mean()\n",
    "    df['slowSMA'] = df.close.rolling(21).mean()"
   ]
  },
  {
   "cell_type": "code",
   "execution_count": 48,
   "id": "416ee1ab",
   "metadata": {},
   "outputs": [],
   "source": [
    "applyFSSMA(ethHourly)"
   ]
  },
  {
   "cell_type": "code",
   "execution_count": null,
   "id": "689eaf18",
   "metadata": {},
   "outputs": [],
   "source": []
  },
  {
   "cell_type": "code",
   "execution_count": 42,
   "id": "5aabe0b1",
   "metadata": {},
   "outputs": [],
   "source": [
    "def changepos(coin, order, buy=True):\n",
    "    if buy:\n",
    "        posframe.loc[posframe.currency == coin, 'position'] = 1\n",
    "        posframe.loc[posframe.currency == coin, 'quantity'] = float(order['executedqty'])\n",
    "    else:\n",
    "        posframe.loc[posframe.currency == coin, 'position'] = 0\n",
    "        posframe.loc[posframe.currency == coin, 'quantity'] = 0"
   ]
  },
  {
   "cell_type": "code",
   "execution_count": 51,
   "id": "5f0fbf22",
   "metadata": {},
   "outputs": [],
   "source": [
    "#investment amount in USD\n",
    "def trader(usd=100):\n",
    "    for coin in posframe[posframe.position == 1].currency:\n",
    "        print('test')\n",
    "        coindata = gethourlydata(coin)\n",
    "        applyFSSMA(coindata)\n",
    "        latestdata = coindata.iloc[-1]\n",
    "        if latestdata.slowSMA > latestdata.fastSMA:\n",
    "            order = client.create_order(symbol=coin, side='SELL', type='MARKET',\n",
    "            qty = posframe[posframe.currency == coin].quantity.values[0])\n",
    "            changepos(coin,order,buy=False)\n",
    "    for coin in posframe[posframe.position == 0].currency:\n",
    "        coindata = gethourlydata(coin)\n",
    "        applyFSSMA(coindata)\n",
    "        latestdata = coindata.iloc[-1]\n",
    "        if latestdata.fastSMA > latestdata.slowSMA:\n",
    "            order = client.create_order(symbol=coin, side='BUY', type='MARKET', quoteOrderqty=usd)\n",
    "            print(order)\n",
    "            changepos(coin,order,buy=True)\n",
    "        else:\n",
    "            print(f'did not buy {coin}')"
   ]
  },
  {
   "cell_type": "code",
   "execution_count": 52,
   "id": "82f9b951",
   "metadata": {},
   "outputs": [
    {
     "name": "stdout",
     "output_type": "stream",
     "text": [
      "did not buy BTCUSDT\n",
      "did not buy ETHUSDT\n",
      "did not buy BNBUSDT\n",
      "did not buy ADAUSDT\n",
      "did not buy DOGEUSDT\n"
     ]
    }
   ],
   "source": [
    "trader(0)"
   ]
  },
  {
   "cell_type": "code",
   "execution_count": null,
   "id": "b71fb487",
   "metadata": {},
   "outputs": [],
   "source": []
  }
 ],
 "metadata": {
  "kernelspec": {
   "display_name": "Python 3 (ipykernel)",
   "language": "python",
   "name": "python3"
  },
  "language_info": {
   "codemirror_mode": {
    "name": "ipython",
    "version": 3
   },
   "file_extension": ".py",
   "mimetype": "text/x-python",
   "name": "python",
   "nbconvert_exporter": "python",
   "pygments_lexer": "ipython3",
   "version": "3.8.3"
  }
 },
 "nbformat": 4,
 "nbformat_minor": 5
}
