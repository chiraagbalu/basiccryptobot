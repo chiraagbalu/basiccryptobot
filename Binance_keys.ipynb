{
 "cells": [
  {
   "cell_type": "code",
   "execution_count": 2,
   "id": "cac0cf4c",
   "metadata": {},
   "outputs": [],
   "source": [
    "secret_key = 'mhRL5FCf26WrBvNuuRwLue7b638WOwSHWQ2UpgWdmzME292ZcKlYCVau1iCmVCGW'\n",
    "api_key = 'O2qfVhC2bcJNCxUQkkLlll04LwL7PGnEqKk1TD96ipCkwYWisHRe6kAnbteCaSkK'"
   ]
  },
  {
   "cell_type": "code",
   "execution_count": null,
   "id": "d01f68af",
   "metadata": {},
   "outputs": [],
   "source": []
  }
 ],
 "metadata": {
  "kernelspec": {
   "display_name": "Python 3 (ipykernel)",
   "language": "python",
   "name": "python3"
  },
  "language_info": {
   "codemirror_mode": {
    "name": "ipython",
    "version": 3
   },
   "file_extension": ".py",
   "mimetype": "text/x-python",
   "name": "python",
   "nbconvert_exporter": "python",
   "pygments_lexer": "ipython3",
   "version": "3.8.3"
  }
 },
 "nbformat": 4,
 "nbformat_minor": 5
}
